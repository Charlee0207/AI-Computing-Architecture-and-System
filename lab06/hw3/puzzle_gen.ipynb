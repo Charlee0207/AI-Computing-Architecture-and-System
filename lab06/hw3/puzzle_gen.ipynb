#include <stdio.h>
#include <stdlib.h>
#include <stdbool.h>


char *grid;  // Global 4x4 Sudoku grid (16 elements)

typedef enum{
    FALSE = 0,
    TRUE = !FALSE
} BOOL;

BOOL check(int index){
    int row = index/4;
    int col = index%4;
    int num = grid[index];

    // Check the row for duplicates
    for(int c=0; c<4; c++){
        if(c!=col && grid[row*4+c]==num){
            return FALSE;
        }
    }
    // Check the col for duplicates
    for(int r=0; r<4; r++){
        if(r!=row && grid[r*4+col]==num){
            return FALSE;
        }
    }
    // Check the 2x2 subgrid for duplicates
    int startRow = (row/2)*2;
    int startCol = (col/2)*2;
    for (int r = startRow; r < startRow + 2; r++) {
        for (int c = startCol; c < startCol + 2; c++) {
            if ((r != row || c != col) && grid[r*4 + c] == num) {
                return FALSE; 
            }
        }
    }

    return TRUE;
}

BOOL solve(int index){
    if(index>=16){
        return TRUE;
    }

    if(grid[index]!=0){
        return solve(index+1);
    }
    else{
        for(int n=1; n<=4; n++){
            grid[index] = n;
            if(check(index)==TRUE && solve(index+1)==TRUE){
                return TRUE;
            }
        }
    }
    grid[index] = 0;
    return FALSE;
}


void sudoku_2x2_c(char *test_c_data){

// TODO
// Finish your sudoku algorithm in c language
    grid = test_c_data;
    solve(0);
    
}

// Function to generate a random 4x4 puzzle with 6 filled cells
void generate_puzzle(char *grid) {
    for (int i = 0; i < 16; i++) {
        grid[i] = 0;  // Initialize all cells to 0
    }

    int filled_cells = 6;
    while (filled_cells > 0) {
        int row = rand() % 4;
        int col = rand() % 4;
        int num = (rand() % 4) + 1;

        // Calculate the index in the 1D array
        int index = row * 4 + col;

        if (grid[index] == 0) {
            grid[index] = num;
            filled_cells--;
        }
    }

    return grid;
}

// Function to check if the solution in the grid is valid
bool is_valid_solution(int* grid) {
    // Check rows
    for (int i = 0; i < 4; i++) {
        int seen[5] = {0};  // Array to track numbers 1-4 in the row
        for (int j = 0; j < 4; j++) {
            int num = *(grid + i * 4 + j);
            if (num > 0 && seen[num]) {
                return false;  // Duplicate found
            }
            seen[num] = 1;
        }
    }

    // Check columns
    for (int j = 0; j < 4; j++) {
        int seen[5] = {0};  // Array to track numbers 1-4 in the column
        for (int i = 0; i < 4; i++) {
            int num = *(grid + i * 4 + j);
            if (num > 0 && seen[num]) {
                return false;  // Duplicate found
            }
            seen[num] = 1;
        }
    }

    // Check 2x2 subgrids
    for (int start_row = 0; start_row < 4; start_row += 2) {
        for (int start_col = 0; start_col < 4; start_col += 2) {
            int seen[5] = {0};  // Track numbers in the 2x2 block
            for (int r = 0; r < 2; r++) {
                for (int c = 0; c < 2; c++) {
                    int num = *(grid + (start_row + r) * 4 + (start_col + c));
                    if (num > 0 && seen[num]) {
                        return false;  // Duplicate found
                    }
                    seen[num] = 1;
                }
            }
        }
    }

    return true;  // No duplicates found, valid solution
}

// Placeholder for the Sudoku solver function (replace with actual implementation)
void my_solve_func(int* grid) {
    // Simulate solving the puzzle by setting a valid solution
    int solution[16] = {1, 2, 3, 4, 3, 4, 1, 2, 2, 1, 4, 3, 4, 3, 2, 1};
    for (int i = 0; i < 16; i++) {
        *(grid + i) = solution[i];
    }
}

// Main loop to generate, solve, and validate all possible puzzles
int main() {
    int valid = 1;
    int finish_all_possible_puzzles = 0;  // Loop condition

    while (!finish_all_possible_puzzles) {
        generate_puzzle();  // Generate puzzle

        // Call the solver function (solve the puzzle)
        my_solve_func(puzzle);

        // Validate the solution
        valid = is_valid_solution(puzzle);
        if (!valid) {
            return -1;  // If solution is invalid, exit with -1
        }

        // For demonstration purposes, set the loop finish condition after one iteration
        finish_all_possible_puzzles = 1;  // Remove or modify for multiple puzzles
    }

    printf("All puzzles solved and validated successfully.\n");
    return 0;
}
